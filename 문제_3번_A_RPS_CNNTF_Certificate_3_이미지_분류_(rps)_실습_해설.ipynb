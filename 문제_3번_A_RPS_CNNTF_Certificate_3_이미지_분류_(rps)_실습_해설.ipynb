{
  "nbformat": 4,
  "nbformat_minor": 0,
  "metadata": {
    "kernelspec": {
      "display_name": "Python 3",
      "language": "python",
      "name": "python3"
    },
    "language_info": {
      "codemirror_mode": {
        "name": "ipython",
        "version": 3
      },
      "file_extension": ".py",
      "mimetype": "text/x-python",
      "name": "python",
      "nbconvert_exporter": "python",
      "pygments_lexer": "ipython3",
      "version": "3.6.6"
    },
    "colab": {
      "provenance": [],
      "collapsed_sections": [],
      "include_colab_link": true
    },
    "accelerator": "GPU"
  },
  "cells": [
    {
      "cell_type": "markdown",
      "metadata": {
        "id": "view-in-github",
        "colab_type": "text"
      },
      "source": [
        "<a href=\"https://colab.research.google.com/github/dongzooo/DeepLearning_AI-TensorFlow/blob/main/%EB%AC%B8%EC%A0%9C_3%EB%B2%88_A_RPS_CNNTF_Certificate_3_%EC%9D%B4%EB%AF%B8%EC%A7%80_%EB%B6%84%EB%A5%98_(rps)_%EC%8B%A4%EC%8A%B5_%ED%95%B4%EC%84%A4.ipynb\" target=\"_parent\"><img src=\"https://colab.research.google.com/assets/colab-badge.svg\" alt=\"Open In Colab\"/></a>"
      ]
    },
    {
      "cell_type": "markdown",
      "metadata": {
        "id": "sCmtzkeGPI2Q"
      },
      "source": [
        "# Category 3\n",
        "\n",
        "Convolution Neural Network (합성곱 신경망)를 활용한 이미지 분류 (Image Classification)"
      ]
    },
    {
      "cell_type": "markdown",
      "metadata": {
        "id": "iRSKbgK8PRs5"
      },
      "source": [
        "## 확인"
      ]
    },
    {
      "cell_type": "markdown",
      "metadata": {
        "id": "Fc4QcKvRPSj-"
      },
      "source": [
        "1. GPU 옵션 켜져 있는지 확인할 것!!! (수정 - 노트설정 - 하드웨어설정 (GPU))"
      ]
    },
    {
      "cell_type": "markdown",
      "metadata": {
        "id": "JNPjnA62PXVn"
      },
      "source": [
        "## 순서"
      ]
    },
    {
      "cell_type": "markdown",
      "metadata": {
        "id": "T463L0aPPX_n"
      },
      "source": [
        "1. **import**: 필요한 모듈 import\n",
        "2. **전처리**: 학습에 필요한 데이터 전처리를 수행합니다.\n",
        "3. **모델링(model)**: 모델을 정의합니다.\n",
        "4. **컴파일(compile)**: 모델을 생성합니다.\n",
        "5. **학습 (fit)**: 모델을 학습시킵니다."
      ]
    },
    {
      "cell_type": "markdown",
      "metadata": {
        "id": "W1Hj9c1NPbPu"
      },
      "source": [
        "## 문제"
      ]
    },
    {
      "cell_type": "markdown",
      "metadata": {
        "id": "RcvEYUuhPb3f"
      },
      "source": [
        "For this task you will build a classifier for Rock-Paper-Scissors \n",
        "based on the rps dataset.\n",
        "\n",
        "IMPORTANT: Your final layer should be as shown, do not change the\n",
        "provided code, or the tests may fail\n",
        "\n",
        "IMPORTANT: Images will be tested as 150x150 with 3 bytes of color depth\n",
        "So ensure that your input layer is designed accordingly, or the tests\n",
        "may fail. \n",
        "\n",
        "NOTE THAT THIS IS UNLABELLED DATA. \n",
        "You can use the ImageDataGenerator to automatically label it\n",
        "and we have provided some starter code.\n",
        "\n",
        "-------------------------------\n",
        "\n",
        "이 작업에서는 Rock-Paper-Scissors에 대한 분류기를 작성합니다.\n",
        "rps 데이터 셋을 기반으로합니다.\n",
        "\n",
        "중요 : 최종 레이어는 그림과 같아야합니다.\n",
        "\n",
        "중요 : 이미지는 3 바이트 150x150의 컬러사진으로 테스트됩니다.\n",
        "따라서 입력 레이어가 그에 따라 설계되었거나 테스트되었는지 확인하십시오.\n",
        "\n",
        "ImageDataGenerator를 사용하여 자동으로 레이블을 지정할 수 있습니다."
      ]
    },
    {
      "cell_type": "markdown",
      "metadata": {
        "id": "7C3ewm9XQHgr"
      },
      "source": [
        "-----------------------------------\n"
      ]
    },
    {
      "cell_type": "markdown",
      "metadata": {
        "id": "U6JA3oYDQJno"
      },
      "source": [
        "# 실습"
      ]
    },
    {
      "cell_type": "markdown",
      "metadata": {
        "id": "TwblClY4QLkb"
      },
      "source": [
        "## STEP 1. import "
      ]
    },
    {
      "cell_type": "code",
      "metadata": {
        "id": "_RAc5nAU1LkA"
      },
      "source": [
        "import urllib.request\n",
        "import zipfile\n",
        "import numpy as np\n",
        "from IPython.display import Image\n",
        "\n",
        "import tensorflow as tf\n",
        "from tensorflow.keras.layers import Conv2D, MaxPooling2D, Flatten, Dropout, Dense\n",
        "from tensorflow.keras.models import Sequential\n",
        "from tensorflow.keras.preprocessing.image import ImageDataGenerator\n",
        "from tensorflow.keras.callbacks import ModelCheckpoint"
      ],
      "execution_count": null,
      "outputs": []
    },
    {
      "cell_type": "markdown",
      "metadata": {
        "id": "gzV-1NNX1LkV"
      },
      "source": [
        "## STEP 1. Load Dataset"
      ]
    },
    {
      "cell_type": "markdown",
      "metadata": {
        "id": "eOOsLCAj1LkW"
      },
      "source": [
        "가위바위보에 대한 손의 사진을 가지고 `가위`인지, `바위`인지, `보자기`인지 분류하는 `classification` 문제입니다."
      ]
    },
    {
      "cell_type": "code",
      "metadata": {
        "id": "5g1dTl_q1LkX"
      },
      "source": [
        "url = 'https://storage.googleapis.com/download.tensorflow.org/data/rps.zip'\n",
        "urllib.request.urlretrieve(url, 'rps.zip')\n",
        "local_zip = 'rps.zip'\n",
        "zip_ref = zipfile.ZipFile(local_zip, 'r')\n",
        "zip_ref.extractall('tmp/')\n",
        "zip_ref.close()"
      ],
      "execution_count": null,
      "outputs": []
    },
    {
      "cell_type": "markdown",
      "metadata": {
        "id": "QWULnRzA1Lkd"
      },
      "source": [
        "## STEP 2. 전처리 (ImageDataGenerator)"
      ]
    },
    {
      "cell_type": "markdown",
      "metadata": {
        "id": "9YoiAzkbQWAO"
      },
      "source": [
        "데이터셋의 경로를 지정해 주세요 (root 폴더의 경로를 지정하여야 합니다.)\n"
      ]
    },
    {
      "cell_type": "markdown",
      "metadata": {
        "id": "R3HJbL5XSDlN"
      },
      "source": [
        "[코드]"
      ]
    },
    {
      "cell_type": "code",
      "metadata": {
        "id": "fFJb6A9z1Lkd"
      },
      "source": [
        "TRAINING_DIR = \"tmp/rps/\""
      ],
      "execution_count": null,
      "outputs": []
    },
    {
      "cell_type": "markdown",
      "metadata": {
        "id": "IjKarwpkQoEr"
      },
      "source": [
        "`ImageDataGenerator`를 정의합니다.\n",
        "\n",
        "다음의 옵션 값들로 Image Aumentation(이미지 변형) 옵션을 적절히 조절해 주세요\n",
        "\n",
        "* `rescale`: 이미지의 픽셀 값을 조정\n",
        "* `rotation_range`: 이미지 회전\n",
        "* `width_shift_range`: 가로 방향으로 이동\n",
        "* `height_shift_range`: 세로 방향으로 이동\n",
        "* `shear_range`: 이미지 굴절\n",
        "* `zoom_range`: 이미지 확대\n",
        "* `horizontal_flip`: 횡 방향으로 이미지 반전\n",
        "* `fill_mode`: 이미지를 이동이나 굴절시켰을 때 빈 픽셀 값에 대하여 값을 채우는 방식\n",
        "* `validation_split`: validation set의 구성 비율"
      ]
    },
    {
      "cell_type": "markdown",
      "metadata": {
        "id": "DGslGzIrSE9U"
      },
      "source": [
        "[코드]"
      ]
    },
    {
      "cell_type": "code",
      "metadata": {
        "id": "KemaTeRd1Lkp"
      },
      "source": [
        "training_datagen = ImageDataGenerator(\n",
        "    rescale=1. / 255,\n",
        "    rotation_range=5,\n",
        "    width_shift_range=0.05,\n",
        "    height_shift_range=0.05,\n",
        "    shear_range=0.05,\n",
        "    zoom_range=0.2,\n",
        "    horizontal_flip=True,\n",
        "    fill_mode='reflect', \n",
        "    validation_split=0.2\n",
        "    )\n"
      ],
      "execution_count": null,
      "outputs": []
    },
    {
      "cell_type": "markdown",
      "metadata": {
        "id": "WZXWPiKY1Lkt"
      },
      "source": [
        "ImageDataGenerator를 잘 만들어 주었다면, `flow_from_directory`로 이미지를 어떻게 공급해 줄 것인가를 지정해 주어야합니다.\n",
        "\n",
        "* train / validation set 전용 generator를 별도로 정의합니다.\n",
        "* `batch_size`를 정의합니다 (128)\n",
        "* `target_size`를 정의합니다. (150 x 150). 이미지를 알아서 타겟 사이즈 만큼 잘라내어 공급합니다.\n",
        "* `class_mode`는 3개 이상의 클래스인 경우 'categorical' 이진 분류의 경우 `binary`를 지정합니다.\n",
        "* `subset`을 지정합니다. (training / validation)\n"
      ]
    },
    {
      "cell_type": "markdown",
      "metadata": {
        "id": "-aaAbYk4RqBd"
      },
      "source": [
        "**training_generator**에 대한 `from_from_directory`를 정의합니다.\n",
        "\n",
        "* 2016 개의 이미지가 출력되어야 합니다."
      ]
    },
    {
      "cell_type": "markdown",
      "metadata": {
        "id": "LiYxxiZXSGI_"
      },
      "source": [
        "[코드]"
      ]
    },
    {
      "cell_type": "code",
      "metadata": {
        "id": "y4gbMm121Lk0",
        "colab": {
          "base_uri": "https://localhost:8080/"
        },
        "outputId": "996dee1c-255c-4e7b-e2ff-65e0ed512da6"
      },
      "source": [
        "training_generator = training_datagen.flow_from_directory(TRAINING_DIR, \n",
        "                                                          batch_size=32, \n",
        "                                                          target_size=(150, 150), \n",
        "                                                          class_mode='categorical', \n",
        "                                                          subset='training',\n",
        "                                                         )"
      ],
      "execution_count": null,
      "outputs": [
        {
          "output_type": "stream",
          "name": "stdout",
          "text": [
            "Found 2016 images belonging to 3 classes.\n"
          ]
        }
      ]
    },
    {
      "cell_type": "markdown",
      "metadata": {
        "id": "r89m3meDRx8k"
      },
      "source": [
        "**validation_generator**에 대한 `from_from_directory`를 정의합니다.\n",
        "\n",
        "* 504 개의 이미지가 출력되어야 합니다."
      ]
    },
    {
      "cell_type": "markdown",
      "metadata": {
        "id": "6Wdicm3XSHT9"
      },
      "source": [
        "[코드]"
      ]
    },
    {
      "cell_type": "code",
      "metadata": {
        "id": "_bAYGsIm1aZG",
        "colab": {
          "base_uri": "https://localhost:8080/"
        },
        "outputId": "1d05b17e-9018-46c4-9d2a-d662ec8e2732"
      },
      "source": [
        "validation_generator = training_datagen.flow_from_directory(TRAINING_DIR, \n",
        "                                                          batch_size=32, \n",
        "                                                          target_size=(150, 150), \n",
        "                                                          class_mode='categorical',\n",
        "                                                          subset='validation', \n",
        "                                                         )"
      ],
      "execution_count": null,
      "outputs": [
        {
          "output_type": "stream",
          "name": "stdout",
          "text": [
            "Found 504 images belonging to 3 classes.\n"
          ]
        }
      ]
    },
    {
      "cell_type": "markdown",
      "metadata": {
        "id": "MKi8C1eoSB52"
      },
      "source": [
        "## STEP 3. 모델 정의 (Sequential)"
      ]
    },
    {
      "cell_type": "code",
      "metadata": {
        "id": "Iwj8Q1ZR1Llt"
      },
      "source": [
        "model = Sequential([\n",
        "    # Conv2D, MaxPooling2D 조합으로 층을 쌓습니다. 첫번째 입력층의 input_shape은 (150, 150, 3)으로 지정합니다.\n",
        "    Conv2D(64, (3, 3), activation='relu', input_shape=(150, 150, 3)),\n",
        "    MaxPooling2D(2, 2), \n",
        "    Conv2D(64, (3, 3), activation='relu'),\n",
        "    MaxPooling2D(2, 2), \n",
        "    Conv2D(128, (3, 3), activation='relu'),\n",
        "    MaxPooling2D(2, 2), \n",
        "    Conv2D(128, (3, 3), activation='relu'),\n",
        "    MaxPooling2D(2, 2), \n",
        "    Flatten(), \n",
        "    Dropout(0.5),\n",
        "    Dense(128, activation='relu'),\n",
        "    Dense(64, activation='relu'),\n",
        "    Dense(3, activation='softmax'),\n",
        "])"
      ],
      "execution_count": null,
      "outputs": []
    },
    {
      "cell_type": "code",
      "metadata": {
        "id": "Pw_G-lkR1Llv",
        "colab": {
          "base_uri": "https://localhost:8080/"
        },
        "outputId": "d3cd5003-4d59-47ba-c06f-46ed9890214a"
      },
      "source": [
        "model.summary()"
      ],
      "execution_count": null,
      "outputs": [
        {
          "output_type": "stream",
          "name": "stdout",
          "text": [
            "Model: \"sequential\"\n",
            "_________________________________________________________________\n",
            " Layer (type)                Output Shape              Param #   \n",
            "=================================================================\n",
            " conv2d (Conv2D)             (None, 148, 148, 32)      896       \n",
            "                                                                 \n",
            " max_pooling2d (MaxPooling2D  (None, 74, 74, 32)       0         \n",
            " )                                                               \n",
            "                                                                 \n",
            " conv2d_1 (Conv2D)           (None, 72, 72, 64)        18496     \n",
            "                                                                 \n",
            " max_pooling2d_1 (MaxPooling  (None, 36, 36, 64)       0         \n",
            " 2D)                                                             \n",
            "                                                                 \n",
            " conv2d_2 (Conv2D)           (None, 34, 34, 128)       73856     \n",
            "                                                                 \n",
            " max_pooling2d_2 (MaxPooling  (None, 17, 17, 128)      0         \n",
            " 2D)                                                             \n",
            "                                                                 \n",
            " conv2d_3 (Conv2D)           (None, 15, 15, 128)       147584    \n",
            "                                                                 \n",
            " max_pooling2d_3 (MaxPooling  (None, 7, 7, 128)        0         \n",
            " 2D)                                                             \n",
            "                                                                 \n",
            " flatten (Flatten)           (None, 6272)              0         \n",
            "                                                                 \n",
            " dropout (Dropout)           (None, 6272)              0         \n",
            "                                                                 \n",
            " dense (Dense)               (None, 128)               802944    \n",
            "                                                                 \n",
            " dense_1 (Dense)             (None, 64)                8256      \n",
            "                                                                 \n",
            " dense_2 (Dense)             (None, 3)                 195       \n",
            "                                                                 \n",
            "=================================================================\n",
            "Total params: 1,052,227\n",
            "Trainable params: 1,052,227\n",
            "Non-trainable params: 0\n",
            "_________________________________________________________________\n"
          ]
        }
      ]
    },
    {
      "cell_type": "markdown",
      "metadata": {
        "id": "4NhjbLsU1Ll0"
      },
      "source": [
        "## STEP 4. 컴파일 (compile)"
      ]
    },
    {
      "cell_type": "markdown",
      "metadata": {
        "id": "cdjO-SoLSohD"
      },
      "source": [
        "1. `optimizer`는 가장 최적화가 잘되는 알고리즘인 'adam'을 사용합니다.\n",
        "2. `loss`는 무엇을 지정하면 좋을까요? (`categorical_crossentropy` / `sparse_categorical_crossentropy`)\n",
        "3. `metrics`를 'acc' 혹은 'accuracy'로 지정하면, 학습시 정확도를 모니터링 할 수 있습니다."
      ]
    },
    {
      "cell_type": "code",
      "metadata": {
        "id": "yzw3sIaB1Ll0"
      },
      "source": [
        "model.compile(optimizer='adam', loss='categorical_crossentropy', metrics=['acc'])"
      ],
      "execution_count": null,
      "outputs": []
    },
    {
      "cell_type": "markdown",
      "metadata": {
        "id": "yJ0gsuoqSv7z"
      },
      "source": [
        "## STEP 5. ModelCheckpoint"
      ]
    },
    {
      "cell_type": "markdown",
      "metadata": {
        "id": "oXHmDZ2aSx4O"
      },
      "source": [
        "`val_loss` 기준으로 epoch 마다 최적의 모델을 저장하기 위하여, ModelCheckpoint를 만듭니다.\n",
        "* `checkpoint_path`는 모델이 저장될 파일 명을 설정합니다.\n",
        "* `ModelCheckpoint`을 선언하고, 적절한 옵션 값을 지정합니다."
      ]
    },
    {
      "cell_type": "markdown",
      "metadata": {
        "id": "s1i6HUSiSzbL"
      },
      "source": [
        "[코드]"
      ]
    },
    {
      "cell_type": "code",
      "metadata": {
        "id": "ogAVTqJAS0um"
      },
      "source": [
        "checkpoint_path = \"tmp_checkpoint.ckpt\"\n",
        "checkpoint = ModelCheckpoint(filepath=checkpoint_path, \n",
        "                             save_weights_only=True, \n",
        "                             save_best_only=True, \n",
        "                             monitor='val_loss', \n",
        "                             verbose=1)"
      ],
      "execution_count": null,
      "outputs": []
    },
    {
      "cell_type": "markdown",
      "metadata": {
        "id": "820Nfvw81Ll5"
      },
      "source": [
        "## STEP 6. 학습 (fit)"
      ]
    },
    {
      "cell_type": "code",
      "metadata": {
        "id": "Ifj14vP71LmA",
        "colab": {
          "base_uri": "https://localhost:8080/"
        },
        "outputId": "c07ed26d-91c1-4637-a09d-efe93ad06f4b"
      },
      "source": [
        "model.fit(training_generator, \n",
        "          validation_data=(validation_generator),\n",
        "          epochs=25,\n",
        "          callbacks=[checkpoint],\n",
        "          )"
      ],
      "execution_count": null,
      "outputs": [
        {
          "output_type": "stream",
          "name": "stdout",
          "text": [
            "Epoch 1/25\n",
            "63/63 [==============================] - ETA: 0s - loss: 0.8685 - acc: 0.5451\n",
            "Epoch 1: val_loss improved from inf to 0.63420, saving model to tmp_checkpoint.ckpt\n",
            "63/63 [==============================] - 31s 315ms/step - loss: 0.8685 - acc: 0.5451 - val_loss: 0.6342 - val_acc: 0.8492\n",
            "Epoch 2/25\n",
            "63/63 [==============================] - ETA: 0s - loss: 0.2272 - acc: 0.9196\n",
            "Epoch 2: val_loss improved from 0.63420 to 0.31468, saving model to tmp_checkpoint.ckpt\n",
            "63/63 [==============================] - 19s 307ms/step - loss: 0.2272 - acc: 0.9196 - val_loss: 0.3147 - val_acc: 0.9206\n",
            "Epoch 3/25\n",
            "63/63 [==============================] - ETA: 0s - loss: 0.1075 - acc: 0.9648\n",
            "Epoch 3: val_loss did not improve from 0.31468\n",
            "63/63 [==============================] - 19s 304ms/step - loss: 0.1075 - acc: 0.9648 - val_loss: 0.3605 - val_acc: 0.8909\n",
            "Epoch 4/25\n",
            "63/63 [==============================] - ETA: 0s - loss: 0.0656 - acc: 0.9802\n",
            "Epoch 4: val_loss did not improve from 0.31468\n",
            "63/63 [==============================] - 19s 300ms/step - loss: 0.0656 - acc: 0.9802 - val_loss: 0.3958 - val_acc: 0.8829\n",
            "Epoch 5/25\n",
            "63/63 [==============================] - ETA: 0s - loss: 0.0352 - acc: 0.9886\n",
            "Epoch 5: val_loss improved from 0.31468 to 0.28601, saving model to tmp_checkpoint.ckpt\n",
            "63/63 [==============================] - 19s 301ms/step - loss: 0.0352 - acc: 0.9886 - val_loss: 0.2860 - val_acc: 0.9107\n",
            "Epoch 6/25\n",
            "63/63 [==============================] - ETA: 0s - loss: 0.0451 - acc: 0.9812\n",
            "Epoch 6: val_loss did not improve from 0.28601\n",
            "63/63 [==============================] - 20s 314ms/step - loss: 0.0451 - acc: 0.9812 - val_loss: 0.5024 - val_acc: 0.8671\n",
            "Epoch 7/25\n",
            "63/63 [==============================] - ETA: 0s - loss: 0.0305 - acc: 0.9886\n",
            "Epoch 7: val_loss did not improve from 0.28601\n",
            "63/63 [==============================] - 19s 302ms/step - loss: 0.0305 - acc: 0.9886 - val_loss: 0.3742 - val_acc: 0.8829\n",
            "Epoch 8/25\n",
            "63/63 [==============================] - ETA: 0s - loss: 0.0175 - acc: 0.9911\n",
            "Epoch 8: val_loss did not improve from 0.28601\n",
            "63/63 [==============================] - 19s 301ms/step - loss: 0.0175 - acc: 0.9911 - val_loss: 0.3874 - val_acc: 0.9048\n",
            "Epoch 9/25\n",
            "63/63 [==============================] - ETA: 0s - loss: 0.0317 - acc: 0.9911\n",
            "Epoch 9: val_loss improved from 0.28601 to 0.21454, saving model to tmp_checkpoint.ckpt\n",
            "63/63 [==============================] - 19s 301ms/step - loss: 0.0317 - acc: 0.9911 - val_loss: 0.2145 - val_acc: 0.9325\n",
            "Epoch 10/25\n",
            "63/63 [==============================] - ETA: 0s - loss: 0.0318 - acc: 0.9891\n",
            "Epoch 10: val_loss did not improve from 0.21454\n",
            "63/63 [==============================] - 19s 299ms/step - loss: 0.0318 - acc: 0.9891 - val_loss: 0.3171 - val_acc: 0.8889\n",
            "Epoch 11/25\n",
            "63/63 [==============================] - ETA: 0s - loss: 0.0254 - acc: 0.9936\n",
            "Epoch 11: val_loss improved from 0.21454 to 0.09213, saving model to tmp_checkpoint.ckpt\n",
            "63/63 [==============================] - 19s 303ms/step - loss: 0.0254 - acc: 0.9936 - val_loss: 0.0921 - val_acc: 0.9742\n",
            "Epoch 12/25\n",
            "63/63 [==============================] - ETA: 0s - loss: 0.0206 - acc: 0.9945\n",
            "Epoch 12: val_loss did not improve from 0.09213\n",
            "63/63 [==============================] - 19s 301ms/step - loss: 0.0206 - acc: 0.9945 - val_loss: 0.2482 - val_acc: 0.9325\n",
            "Epoch 13/25\n",
            "63/63 [==============================] - ETA: 0s - loss: 0.0301 - acc: 0.9906\n",
            "Epoch 13: val_loss did not improve from 0.09213\n",
            "63/63 [==============================] - 19s 303ms/step - loss: 0.0301 - acc: 0.9906 - val_loss: 0.1093 - val_acc: 0.9742\n",
            "Epoch 14/25\n",
            "63/63 [==============================] - ETA: 0s - loss: 0.0259 - acc: 0.9926\n",
            "Epoch 14: val_loss did not improve from 0.09213\n",
            "63/63 [==============================] - 20s 317ms/step - loss: 0.0259 - acc: 0.9926 - val_loss: 0.2938 - val_acc: 0.9187\n",
            "Epoch 15/25\n",
            "63/63 [==============================] - ETA: 0s - loss: 0.0146 - acc: 0.9945\n",
            "Epoch 15: val_loss did not improve from 0.09213\n",
            "63/63 [==============================] - 20s 313ms/step - loss: 0.0146 - acc: 0.9945 - val_loss: 0.1667 - val_acc: 0.9306\n",
            "Epoch 16/25\n",
            "63/63 [==============================] - ETA: 0s - loss: 0.0136 - acc: 0.9950\n",
            "Epoch 16: val_loss did not improve from 0.09213\n",
            "63/63 [==============================] - 19s 307ms/step - loss: 0.0136 - acc: 0.9950 - val_loss: 0.2439 - val_acc: 0.9246\n",
            "Epoch 17/25\n",
            "63/63 [==============================] - ETA: 0s - loss: 0.0605 - acc: 0.9851\n",
            "Epoch 17: val_loss did not improve from 0.09213\n",
            "63/63 [==============================] - 19s 304ms/step - loss: 0.0605 - acc: 0.9851 - val_loss: 0.6314 - val_acc: 0.7460\n",
            "Epoch 18/25\n",
            "63/63 [==============================] - ETA: 0s - loss: 0.0215 - acc: 0.9926\n",
            "Epoch 18: val_loss did not improve from 0.09213\n",
            "63/63 [==============================] - 19s 304ms/step - loss: 0.0215 - acc: 0.9926 - val_loss: 0.2043 - val_acc: 0.9325\n",
            "Epoch 19/25\n",
            "63/63 [==============================] - ETA: 0s - loss: 0.0199 - acc: 0.9960\n",
            "Epoch 19: val_loss did not improve from 0.09213\n",
            "63/63 [==============================] - 20s 318ms/step - loss: 0.0199 - acc: 0.9960 - val_loss: 0.1397 - val_acc: 0.9603\n",
            "Epoch 20/25\n",
            "63/63 [==============================] - ETA: 0s - loss: 0.0239 - acc: 0.9926\n",
            "Epoch 20: val_loss did not improve from 0.09213\n",
            "63/63 [==============================] - 19s 307ms/step - loss: 0.0239 - acc: 0.9926 - val_loss: 0.3165 - val_acc: 0.8730\n",
            "Epoch 21/25\n",
            "63/63 [==============================] - ETA: 0s - loss: 0.0041 - acc: 0.9980\n",
            "Epoch 21: val_loss did not improve from 0.09213\n",
            "63/63 [==============================] - 20s 318ms/step - loss: 0.0041 - acc: 0.9980 - val_loss: 0.1998 - val_acc: 0.9405\n",
            "Epoch 22/25\n",
            "63/63 [==============================] - ETA: 0s - loss: 0.0031 - acc: 0.9995\n",
            "Epoch 22: val_loss did not improve from 0.09213\n",
            "63/63 [==============================] - 19s 306ms/step - loss: 0.0031 - acc: 0.9995 - val_loss: 0.1343 - val_acc: 0.9603\n",
            "Epoch 23/25\n",
            "63/63 [==============================] - ETA: 0s - loss: 0.0078 - acc: 0.9955\n",
            "Epoch 23: val_loss did not improve from 0.09213\n",
            "63/63 [==============================] - 19s 306ms/step - loss: 0.0078 - acc: 0.9955 - val_loss: 0.6491 - val_acc: 0.8393\n",
            "Epoch 24/25\n",
            "63/63 [==============================] - ETA: 0s - loss: 0.0179 - acc: 0.9936\n",
            "Epoch 24: val_loss did not improve from 0.09213\n",
            "63/63 [==============================] - 19s 305ms/step - loss: 0.0179 - acc: 0.9936 - val_loss: 0.1069 - val_acc: 0.9722\n",
            "Epoch 25/25\n",
            "63/63 [==============================] - ETA: 0s - loss: 0.0182 - acc: 0.9940\n",
            "Epoch 25: val_loss did not improve from 0.09213\n",
            "63/63 [==============================] - 19s 304ms/step - loss: 0.0182 - acc: 0.9940 - val_loss: 0.2691 - val_acc: 0.9067\n"
          ]
        },
        {
          "output_type": "execute_result",
          "data": {
            "text/plain": [
              "<keras.callbacks.History at 0x7fb3b6805990>"
            ]
          },
          "metadata": {},
          "execution_count": 11
        }
      ]
    },
    {
      "cell_type": "markdown",
      "metadata": {
        "id": "shzhTOjAninH"
      },
      "source": [
        "## STEP 7. 학습 완료 후 Load Weights (ModelCheckpoint)"
      ]
    },
    {
      "cell_type": "markdown",
      "metadata": {
        "id": "kLqb_6XrMvdq"
      },
      "source": [
        "학습이 완료된 후에는 반드시 `load_weights`를 해주어야 합니다.\n",
        "\n",
        "그렇지 않으면, 열심히 ModelCheckpoint를 만든 의미가 없습니다."
      ]
    },
    {
      "cell_type": "markdown",
      "metadata": {
        "id": "jcXHQ_pNM_zA"
      },
      "source": [
        "[코드]"
      ]
    },
    {
      "cell_type": "code",
      "metadata": {
        "id": "4jO1ucZ9ninH",
        "colab": {
          "base_uri": "https://localhost:8080/"
        },
        "outputId": "bdfdf435-8e7f-494c-e32f-f7194af76f33"
      },
      "source": [
        "model.load_weights(checkpoint_path)"
      ],
      "execution_count": null,
      "outputs": [
        {
          "output_type": "execute_result",
          "data": {
            "text/plain": [
              "<tensorflow.python.training.tracking.util.CheckpointLoadStatus at 0x7fb3a0096a90>"
            ]
          },
          "metadata": {},
          "execution_count": 12
        }
      ]
    },
    {
      "cell_type": "code",
      "source": [
        "model.save(\"TF3-rps0_08.h5\")"
      ],
      "metadata": {
        "id": "xaIAu3TxgyWR"
      },
      "execution_count": null,
      "outputs": []
    },
    {
      "cell_type": "code",
      "source": [],
      "metadata": {
        "id": "Hs1AABSsnHdP"
      },
      "execution_count": null,
      "outputs": []
    }
  ]
}