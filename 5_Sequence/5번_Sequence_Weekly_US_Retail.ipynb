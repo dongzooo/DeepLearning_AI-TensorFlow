{
  "nbformat": 4,
  "nbformat_minor": 5,
  "metadata": {
    "kernelspec": {
      "display_name": "Python 3 (ipykernel)",
      "language": "python",
      "name": "python3"
    },
    "language_info": {
      "codemirror_mode": {
        "name": "ipython",
        "version": 3
      },
      "file_extension": ".py",
      "mimetype": "text/x-python",
      "name": "python",
      "nbconvert_exporter": "python",
      "pygments_lexer": "ipython3",
      "version": "3.7.10"
    },
    "colab": {
      "provenance": [],
      "collapsed_sections": [],
      "include_colab_link": true
    },
    "accelerator": "GPU"
  },
  "cells": [
    {
      "cell_type": "markdown",
      "metadata": {
        "id": "view-in-github",
        "colab_type": "text"
      },
      "source": [
        "<a href=\"https://colab.research.google.com/github/dongzooo/DeepLearning_AI-TensorFlow/blob/main/5%EB%B2%88_Sequence_Weekly_US_Retail.ipynb\" target=\"_parent\"><img src=\"https://colab.research.google.com/assets/colab-badge.svg\" alt=\"Open In Colab\"/></a>"
      ]
    },
    {
      "cell_type": "code",
      "metadata": {
        "id": "C-z36bIfUDQl"
      },
      "source": [
        "# 2021년 10월 20일 신규 출제 문제"
      ],
      "id": "C-z36bIfUDQl",
      "execution_count": null,
      "outputs": []
    },
    {
      "cell_type": "markdown",
      "metadata": {
        "id": "5e1413d6"
      },
      "source": [
        "# Category 5\n",
        "\n",
        "Sequence (시계열) 데이터 다루기"
      ],
      "id": "5e1413d6"
    },
    {
      "cell_type": "markdown",
      "metadata": {
        "id": "6dfad319"
      },
      "source": [
        "## 확인"
      ],
      "id": "6dfad319"
    },
    {
      "cell_type": "markdown",
      "metadata": {
        "id": "33158dd8"
      },
      "source": [
        "1. GPU 옵션 켜져 있는지 확인할 것!!! (수정 - 노트설정 - 하드웨어설정 (GPU))"
      ],
      "id": "33158dd8"
    },
    {
      "cell_type": "markdown",
      "metadata": {
        "id": "b0989fb2"
      },
      "source": [
        "## 순서"
      ],
      "id": "b0989fb2"
    },
    {
      "cell_type": "markdown",
      "metadata": {
        "id": "a133fcd4"
      },
      "source": [
        "1. **import**: 필요한 모듈 import\n",
        "2. **전처리**: 학습에 필요한 데이터 전처리를 수행합니다.\n",
        "3. **모델링(model)**: 모델을 정의합니다.\n",
        "4. **컴파일(compile)**: 모델을 생성합니다.\n",
        "5. **학습 (fit)**: 모델을 학습시킵니다."
      ],
      "id": "a133fcd4"
    },
    {
      "cell_type": "markdown",
      "metadata": {
        "id": "41716c06"
      },
      "source": [
        "## 문제"
      ],
      "id": "41716c06"
    },
    {
      "cell_type": "markdown",
      "metadata": {
        "id": "2a909b6c"
      },
      "source": [
        "Build and train a neural network to predict the time indexed variable of the univariate US diesel prices (On - Highway) All types for the period of 1994 - 2021.\n",
        "\n",
        "Using a **window of past 10 observations of 1 feature** , train the model to predict the **next 10 observations** of that feature.\n",
        "\n",
        "---\n",
        "\n",
        "HINT: If you follow all the rules mentioned above and throughout this\n",
        "question while training your neural network, there is a possibility that a\n",
        "validation **MAE of approximately 0.02 or less on the normalized validation\n",
        "dataset** may fetch you top marks."
      ],
      "id": "2a909b6c"
    },
    {
      "cell_type": "markdown",
      "metadata": {
        "id": "d3422951"
      },
      "source": [
        "## 실습 예제 다운로드"
      ],
      "id": "d3422951"
    },
    {
      "cell_type": "code",
      "metadata": {
        "id": "4407fa14",
        "colab": {
          "base_uri": "https://localhost:8080/"
        },
        "outputId": "e20999ef-b797-4545-f65d-330b74995ffd"
      },
      "source": [
        "import urllib\n",
        "import pandas as pd\n",
        "import tensorflow as tf\n",
        "from tensorflow.keras.layers import Dense, Conv1D, LSTM, Bidirectional\n",
        "from tensorflow.keras.models import Sequential\n",
        "from tensorflow.keras.callbacks import ModelCheckpoint\n",
        "\n",
        "# 아래 2줄 코드는 넣지 말아 주세요!!!\n",
        "url = 'https://www.dropbox.com/s/eduk281didil1km/Weekly_U.S.Diesel_Retail_Prices.csv?dl=1'\n",
        "urllib.request.urlretrieve(url, 'Weekly_U.S.Diesel_Retail_Prices.csv')"
      ],
      "id": "4407fa14",
      "execution_count": null,
      "outputs": [
        {
          "output_type": "execute_result",
          "data": {
            "text/plain": [
              "('Weekly_U.S.Diesel_Retail_Prices.csv',\n",
              " <http.client.HTTPMessage at 0x7fe1b2a67690>)"
            ]
          },
          "metadata": {},
          "execution_count": 1
        }
      ]
    },
    {
      "cell_type": "markdown",
      "metadata": {
        "id": "67ea2ea7"
      },
      "source": [
        "### Normalization"
      ],
      "id": "67ea2ea7"
    },
    {
      "cell_type": "code",
      "metadata": {
        "id": "edf69d68"
      },
      "source": [
        "# This function normalizes the dataset using min max scaling.\n",
        "# DO NOT CHANGE THIS CODE\n",
        "def normalize_series(data, min, max):\n",
        "    data = data - min\n",
        "    data = data / max\n",
        "    return data"
      ],
      "id": "edf69d68",
      "execution_count": null,
      "outputs": []
    },
    {
      "cell_type": "markdown",
      "metadata": {
        "id": "80820e55"
      },
      "source": [
        "### Windowed Dataset 생성"
      ],
      "id": "80820e55"
    },
    {
      "cell_type": "code",
      "metadata": {
        "id": "4f85f8f2"
      },
      "source": [
        "# DO NOT CHANGE THIS.\n",
        "def windowed_dataset(series, batch_size, n_past=10, n_future=10, shift=1):\n",
        "    ds = tf.data.Dataset.from_tensor_slices(series)\n",
        "    ds = ds.window(size=n_past + n_future, shift=shift, drop_remainder=True)\n",
        "    ds = ds.flat_map(lambda w: w.batch(n_past + n_future))\n",
        "    ds = ds.map(lambda w: (w[:n_past], w[n_past:]))\n",
        "    return ds.batch(batch_size).prefetch(1)"
      ],
      "id": "4f85f8f2",
      "execution_count": null,
      "outputs": []
    },
    {
      "cell_type": "markdown",
      "metadata": {
        "id": "5294aaa0"
      },
      "source": [
        "### Dataset 로드"
      ],
      "id": "5294aaa0"
    },
    {
      "cell_type": "code",
      "metadata": {
        "id": "cb8adcad",
        "colab": {
          "base_uri": "https://localhost:8080/",
          "height": 708
        },
        "outputId": "b791eb32-73b2-4d4e-a59b-8b7854eb44ce"
      },
      "source": [
        "df = pd.read_csv('Weekly_U.S.Diesel_Retail_Prices.csv', infer_datetime_format=True, index_col='Week of', header=0)\n",
        "df.head(20)"
      ],
      "id": "cb8adcad",
      "execution_count": null,
      "outputs": [
        {
          "output_type": "execute_result",
          "data": {
            "text/plain": [
              "            Weekly U.S. No 2 Diesel Retail Prices Dollars per Gallon\n",
              "Week of                                                             \n",
              "1994-03-21                                              1.106       \n",
              "1994-03-28                                              1.107       \n",
              "1994-04-04                                              1.109       \n",
              "1994-04-11                                              1.108       \n",
              "1994-04-18                                              1.105       \n",
              "1994-04-25                                              1.106       \n",
              "1994-05-02                                              1.104       \n",
              "1994-05-09                                              1.101       \n",
              "1994-05-16                                              1.099       \n",
              "1994-05-23                                              1.099       \n",
              "1994-05-30                                              1.098       \n",
              "1994-06-06                                              1.101       \n",
              "1994-06-13                                              1.098       \n",
              "1994-06-20                                              1.103       \n",
              "1994-06-27                                              1.108       \n",
              "1994-07-04                                              1.109       \n",
              "1994-07-11                                              1.110       \n",
              "1994-07-18                                              1.111       \n",
              "1994-07-25                                              1.111       \n",
              "1994-08-01                                              1.116       "
            ],
            "text/html": [
              "\n",
              "  <div id=\"df-2b3b6a97-78ac-440a-9ecf-4c1a8e7c4458\">\n",
              "    <div class=\"colab-df-container\">\n",
              "      <div>\n",
              "<style scoped>\n",
              "    .dataframe tbody tr th:only-of-type {\n",
              "        vertical-align: middle;\n",
              "    }\n",
              "\n",
              "    .dataframe tbody tr th {\n",
              "        vertical-align: top;\n",
              "    }\n",
              "\n",
              "    .dataframe thead th {\n",
              "        text-align: right;\n",
              "    }\n",
              "</style>\n",
              "<table border=\"1\" class=\"dataframe\">\n",
              "  <thead>\n",
              "    <tr style=\"text-align: right;\">\n",
              "      <th></th>\n",
              "      <th>Weekly U.S. No 2 Diesel Retail Prices Dollars per Gallon</th>\n",
              "    </tr>\n",
              "    <tr>\n",
              "      <th>Week of</th>\n",
              "      <th></th>\n",
              "    </tr>\n",
              "  </thead>\n",
              "  <tbody>\n",
              "    <tr>\n",
              "      <th>1994-03-21</th>\n",
              "      <td>1.106</td>\n",
              "    </tr>\n",
              "    <tr>\n",
              "      <th>1994-03-28</th>\n",
              "      <td>1.107</td>\n",
              "    </tr>\n",
              "    <tr>\n",
              "      <th>1994-04-04</th>\n",
              "      <td>1.109</td>\n",
              "    </tr>\n",
              "    <tr>\n",
              "      <th>1994-04-11</th>\n",
              "      <td>1.108</td>\n",
              "    </tr>\n",
              "    <tr>\n",
              "      <th>1994-04-18</th>\n",
              "      <td>1.105</td>\n",
              "    </tr>\n",
              "    <tr>\n",
              "      <th>1994-04-25</th>\n",
              "      <td>1.106</td>\n",
              "    </tr>\n",
              "    <tr>\n",
              "      <th>1994-05-02</th>\n",
              "      <td>1.104</td>\n",
              "    </tr>\n",
              "    <tr>\n",
              "      <th>1994-05-09</th>\n",
              "      <td>1.101</td>\n",
              "    </tr>\n",
              "    <tr>\n",
              "      <th>1994-05-16</th>\n",
              "      <td>1.099</td>\n",
              "    </tr>\n",
              "    <tr>\n",
              "      <th>1994-05-23</th>\n",
              "      <td>1.099</td>\n",
              "    </tr>\n",
              "    <tr>\n",
              "      <th>1994-05-30</th>\n",
              "      <td>1.098</td>\n",
              "    </tr>\n",
              "    <tr>\n",
              "      <th>1994-06-06</th>\n",
              "      <td>1.101</td>\n",
              "    </tr>\n",
              "    <tr>\n",
              "      <th>1994-06-13</th>\n",
              "      <td>1.098</td>\n",
              "    </tr>\n",
              "    <tr>\n",
              "      <th>1994-06-20</th>\n",
              "      <td>1.103</td>\n",
              "    </tr>\n",
              "    <tr>\n",
              "      <th>1994-06-27</th>\n",
              "      <td>1.108</td>\n",
              "    </tr>\n",
              "    <tr>\n",
              "      <th>1994-07-04</th>\n",
              "      <td>1.109</td>\n",
              "    </tr>\n",
              "    <tr>\n",
              "      <th>1994-07-11</th>\n",
              "      <td>1.110</td>\n",
              "    </tr>\n",
              "    <tr>\n",
              "      <th>1994-07-18</th>\n",
              "      <td>1.111</td>\n",
              "    </tr>\n",
              "    <tr>\n",
              "      <th>1994-07-25</th>\n",
              "      <td>1.111</td>\n",
              "    </tr>\n",
              "    <tr>\n",
              "      <th>1994-08-01</th>\n",
              "      <td>1.116</td>\n",
              "    </tr>\n",
              "  </tbody>\n",
              "</table>\n",
              "</div>\n",
              "      <button class=\"colab-df-convert\" onclick=\"convertToInteractive('df-2b3b6a97-78ac-440a-9ecf-4c1a8e7c4458')\"\n",
              "              title=\"Convert this dataframe to an interactive table.\"\n",
              "              style=\"display:none;\">\n",
              "        \n",
              "  <svg xmlns=\"http://www.w3.org/2000/svg\" height=\"24px\"viewBox=\"0 0 24 24\"\n",
              "       width=\"24px\">\n",
              "    <path d=\"M0 0h24v24H0V0z\" fill=\"none\"/>\n",
              "    <path d=\"M18.56 5.44l.94 2.06.94-2.06 2.06-.94-2.06-.94-.94-2.06-.94 2.06-2.06.94zm-11 1L8.5 8.5l.94-2.06 2.06-.94-2.06-.94L8.5 2.5l-.94 2.06-2.06.94zm10 10l.94 2.06.94-2.06 2.06-.94-2.06-.94-.94-2.06-.94 2.06-2.06.94z\"/><path d=\"M17.41 7.96l-1.37-1.37c-.4-.4-.92-.59-1.43-.59-.52 0-1.04.2-1.43.59L10.3 9.45l-7.72 7.72c-.78.78-.78 2.05 0 2.83L4 21.41c.39.39.9.59 1.41.59.51 0 1.02-.2 1.41-.59l7.78-7.78 2.81-2.81c.8-.78.8-2.07 0-2.86zM5.41 20L4 18.59l7.72-7.72 1.47 1.35L5.41 20z\"/>\n",
              "  </svg>\n",
              "      </button>\n",
              "      \n",
              "  <style>\n",
              "    .colab-df-container {\n",
              "      display:flex;\n",
              "      flex-wrap:wrap;\n",
              "      gap: 12px;\n",
              "    }\n",
              "\n",
              "    .colab-df-convert {\n",
              "      background-color: #E8F0FE;\n",
              "      border: none;\n",
              "      border-radius: 50%;\n",
              "      cursor: pointer;\n",
              "      display: none;\n",
              "      fill: #1967D2;\n",
              "      height: 32px;\n",
              "      padding: 0 0 0 0;\n",
              "      width: 32px;\n",
              "    }\n",
              "\n",
              "    .colab-df-convert:hover {\n",
              "      background-color: #E2EBFA;\n",
              "      box-shadow: 0px 1px 2px rgba(60, 64, 67, 0.3), 0px 1px 3px 1px rgba(60, 64, 67, 0.15);\n",
              "      fill: #174EA6;\n",
              "    }\n",
              "\n",
              "    [theme=dark] .colab-df-convert {\n",
              "      background-color: #3B4455;\n",
              "      fill: #D2E3FC;\n",
              "    }\n",
              "\n",
              "    [theme=dark] .colab-df-convert:hover {\n",
              "      background-color: #434B5C;\n",
              "      box-shadow: 0px 1px 3px 1px rgba(0, 0, 0, 0.15);\n",
              "      filter: drop-shadow(0px 1px 2px rgba(0, 0, 0, 0.3));\n",
              "      fill: #FFFFFF;\n",
              "    }\n",
              "  </style>\n",
              "\n",
              "      <script>\n",
              "        const buttonEl =\n",
              "          document.querySelector('#df-2b3b6a97-78ac-440a-9ecf-4c1a8e7c4458 button.colab-df-convert');\n",
              "        buttonEl.style.display =\n",
              "          google.colab.kernel.accessAllowed ? 'block' : 'none';\n",
              "\n",
              "        async function convertToInteractive(key) {\n",
              "          const element = document.querySelector('#df-2b3b6a97-78ac-440a-9ecf-4c1a8e7c4458');\n",
              "          const dataTable =\n",
              "            await google.colab.kernel.invokeFunction('convertToInteractive',\n",
              "                                                     [key], {});\n",
              "          if (!dataTable) return;\n",
              "\n",
              "          const docLinkHtml = 'Like what you see? Visit the ' +\n",
              "            '<a target=\"_blank\" href=https://colab.research.google.com/notebooks/data_table.ipynb>data table notebook</a>'\n",
              "            + ' to learn more about interactive tables.';\n",
              "          element.innerHTML = '';\n",
              "          dataTable['output_type'] = 'display_data';\n",
              "          await google.colab.output.renderOutput(dataTable, element);\n",
              "          const docLink = document.createElement('div');\n",
              "          docLink.innerHTML = docLinkHtml;\n",
              "          element.appendChild(docLink);\n",
              "        }\n",
              "      </script>\n",
              "    </div>\n",
              "  </div>\n",
              "  "
            ]
          },
          "metadata": {},
          "execution_count": 5
        }
      ]
    },
    {
      "cell_type": "code",
      "metadata": {
        "id": "ec1f883e",
        "colab": {
          "base_uri": "https://localhost:8080/"
        },
        "outputId": "5c052f13-4e52-453a-c810-2b21edb7bc99"
      },
      "source": [
        "# 특성 정의\n",
        "N_FEATURES = len(df.columns)\n",
        "N_FEATURES"
      ],
      "id": "ec1f883e",
      "execution_count": null,
      "outputs": [
        {
          "output_type": "execute_result",
          "data": {
            "text/plain": [
              "1"
            ]
          },
          "metadata": {},
          "execution_count": 6
        }
      ]
    },
    {
      "cell_type": "markdown",
      "metadata": {
        "id": "66090bba"
      },
      "source": [
        "### 정규화 및 데이터 분할"
      ],
      "id": "66090bba"
    },
    {
      "cell_type": "code",
      "metadata": {
        "id": "26502285"
      },
      "source": [
        "# 정규화 코드\n",
        "data = df.values\n",
        "data = normalize_series(data, data.min(axis=0), data.max(axis=0))\n",
        "\n",
        "# 데이터 분할\n",
        "SPLIT_TIME = int(len(data) * 0.8) # DO NOT CHANGE THIS\n",
        "x_train = data[:SPLIT_TIME]\n",
        "x_valid = data[SPLIT_TIME:]"
      ],
      "id": "26502285",
      "execution_count": null,
      "outputs": []
    },
    {
      "cell_type": "code",
      "metadata": {
        "id": "e75e029a"
      },
      "source": [
        "BATCH_SIZE = 32  # 배치사이즈\n",
        "N_PAST = 10      # 과거 데이터 (X)\n",
        "N_FUTURE = 10    # 미래 데이터 (Y)\n",
        "SHIFT = 1        # SHIFT"
      ],
      "id": "e75e029a",
      "execution_count": null,
      "outputs": []
    },
    {
      "cell_type": "markdown",
      "metadata": {
        "id": "63e49b63"
      },
      "source": [
        "### train / validation set 구성"
      ],
      "id": "63e49b63"
    },
    {
      "cell_type": "code",
      "metadata": {
        "id": "91292427"
      },
      "source": [
        "train_set = windowed_dataset(series=x_train, batch_size=BATCH_SIZE,\n",
        "                             n_past=N_PAST, n_future=N_FUTURE,\n",
        "                             shift=SHIFT)\n",
        "\n",
        "valid_set = windowed_dataset(series=x_valid, batch_size=BATCH_SIZE,\n",
        "                             n_past=N_PAST, n_future=N_FUTURE,\n",
        "                             shift=SHIFT)"
      ],
      "id": "91292427",
      "execution_count": null,
      "outputs": []
    },
    {
      "cell_type": "markdown",
      "metadata": {
        "id": "a9bb69e7"
      },
      "source": [
        "### 모델 구성"
      ],
      "id": "a9bb69e7"
    },
    {
      "cell_type": "code",
      "metadata": {
        "id": "b9a2ca86"
      },
      "source": [
        "model = tf.keras.models.Sequential([\n",
        "    Conv1D(filters=32, kernel_size=5, padding='causal', activation='relu', input_shape=[N_PAST, 1]),\n",
        "    Bidirectional(LSTM(32, return_sequences=True)),\n",
        "    Bidirectional(LSTM(32, return_sequences=True)),\n",
        "    Dense(32, activation='relu'),\n",
        "    Dense(16, activation='relu'),\n",
        "    Dense(N_FEATURES)\n",
        "])"
      ],
      "id": "b9a2ca86",
      "execution_count": null,
      "outputs": []
    },
    {
      "cell_type": "markdown",
      "metadata": {
        "id": "c71b0cde"
      },
      "source": [
        "### 체크포인트 생성"
      ],
      "id": "c71b0cde"
    },
    {
      "cell_type": "code",
      "metadata": {
        "id": "4e7c72b8"
      },
      "source": [
        "checkpoint_path = 'model/my_checkpoint.ckpt'\n",
        "checkpoint = ModelCheckpoint(filepath=checkpoint_path,\n",
        "                             save_weights_only=True,\n",
        "                             save_best_only=True,\n",
        "                             monitor='val_mae',\n",
        "                             verbose=1)"
      ],
      "id": "4e7c72b8",
      "execution_count": null,
      "outputs": []
    },
    {
      "cell_type": "markdown",
      "metadata": {
        "id": "a5d88f17"
      },
      "source": [
        "### 컴파일"
      ],
      "id": "a5d88f17"
    },
    {
      "cell_type": "code",
      "metadata": {
        "id": "a51acd99"
      },
      "source": [
        "optimizer = tf.keras.optimizers.Adam(0.0001)\n",
        "model.compile(optimizer=optimizer, loss=tf.keras.losses.Huber(), metrics=['mae'])"
      ],
      "id": "a51acd99",
      "execution_count": null,
      "outputs": []
    },
    {
      "cell_type": "markdown",
      "metadata": {
        "id": "6ada3688"
      },
      "source": [
        "### 학습(train)"
      ],
      "id": "6ada3688"
    },
    {
      "cell_type": "code",
      "metadata": {
        "id": "a9f3a59e",
        "colab": {
          "base_uri": "https://localhost:8080/"
        },
        "outputId": "c4b5edfa-bdf0-4a9c-fb94-3ae8a0a1e43d"
      },
      "source": [
        "model.fit(train_set,\n",
        "          validation_data=(valid_set),\n",
        "          epochs=100,\n",
        "          callbacks=[checkpoint])"
      ],
      "id": "a9f3a59e",
      "execution_count": null,
      "outputs": [
        {
          "output_type": "stream",
          "name": "stdout",
          "text": [
            "Epoch 1/100\n",
            "     33/Unknown - 18s 14ms/step - loss: 0.0514 - mae: 0.2444\n",
            "Epoch 1: val_mae improved from inf to 0.31757, saving model to model/my_checkpoint.ckpt\n",
            "35/35 [==============================] - 19s 68ms/step - loss: 0.0519 - mae: 0.2497 - val_loss: 0.0524 - val_mae: 0.3176\n",
            "Epoch 2/100\n",
            "34/35 [============================>.] - ETA: 0s - loss: 0.0358 - mae: 0.1952\n",
            "Epoch 2: val_mae improved from 0.31757 to 0.24661, saving model to model/my_checkpoint.ckpt\n",
            "35/35 [==============================] - 1s 18ms/step - loss: 0.0355 - mae: 0.1957 - val_loss: 0.0322 - val_mae: 0.2466\n",
            "Epoch 3/100\n",
            "33/35 [===========================>..] - ETA: 0s - loss: 0.0203 - mae: 0.1472\n",
            "Epoch 3: val_mae improved from 0.24661 to 0.15186, saving model to model/my_checkpoint.ckpt\n",
            "35/35 [==============================] - 1s 18ms/step - loss: 0.0200 - mae: 0.1478 - val_loss: 0.0131 - val_mae: 0.1519\n",
            "Epoch 4/100\n",
            "32/35 [==========================>...] - ETA: 0s - loss: 0.0089 - mae: 0.1100\n",
            "Epoch 4: val_mae improved from 0.15186 to 0.05873, saving model to model/my_checkpoint.ckpt\n",
            "35/35 [==============================] - 1s 18ms/step - loss: 0.0088 - mae: 0.1089 - val_loss: 0.0028 - val_mae: 0.0587\n",
            "Epoch 5/100\n",
            "34/35 [============================>.] - ETA: 0s - loss: 0.0061 - mae: 0.0960\n",
            "Epoch 5: val_mae improved from 0.05873 to 0.04187, saving model to model/my_checkpoint.ckpt\n",
            "35/35 [==============================] - 1s 17ms/step - loss: 0.0059 - mae: 0.0945 - val_loss: 0.0014 - val_mae: 0.0419\n",
            "Epoch 6/100\n",
            "33/35 [===========================>..] - ETA: 0s - loss: 0.0053 - mae: 0.0890\n",
            "Epoch 6: val_mae improved from 0.04187 to 0.03824, saving model to model/my_checkpoint.ckpt\n",
            "35/35 [==============================] - 1s 18ms/step - loss: 0.0051 - mae: 0.0868 - val_loss: 0.0012 - val_mae: 0.0382\n",
            "Epoch 7/100\n",
            "34/35 [============================>.] - ETA: 0s - loss: 0.0039 - mae: 0.0755\n",
            "Epoch 7: val_mae improved from 0.03824 to 0.03548, saving model to model/my_checkpoint.ckpt\n",
            "35/35 [==============================] - 1s 18ms/step - loss: 0.0038 - mae: 0.0745 - val_loss: 0.0011 - val_mae: 0.0355\n",
            "Epoch 8/100\n",
            "33/35 [===========================>..] - ETA: 0s - loss: 0.0030 - mae: 0.0644\n",
            "Epoch 8: val_mae improved from 0.03548 to 0.03347, saving model to model/my_checkpoint.ckpt\n",
            "35/35 [==============================] - 1s 18ms/step - loss: 0.0029 - mae: 0.0636 - val_loss: 9.7895e-04 - val_mae: 0.0335\n",
            "Epoch 9/100\n",
            "33/35 [===========================>..] - ETA: 0s - loss: 0.0021 - mae: 0.0503\n",
            "Epoch 9: val_mae improved from 0.03347 to 0.03172, saving model to model/my_checkpoint.ckpt\n",
            "35/35 [==============================] - 1s 18ms/step - loss: 0.0021 - mae: 0.0504 - val_loss: 9.0561e-04 - val_mae: 0.0317\n",
            "Epoch 10/100\n",
            "35/35 [==============================] - ETA: 0s - loss: 0.0017 - mae: 0.0426\n",
            "Epoch 10: val_mae improved from 0.03172 to 0.03033, saving model to model/my_checkpoint.ckpt\n",
            "35/35 [==============================] - 1s 18ms/step - loss: 0.0017 - mae: 0.0426 - val_loss: 8.4686e-04 - val_mae: 0.0303\n",
            "Epoch 11/100\n",
            "31/35 [=========================>....] - ETA: 0s - loss: 0.0016 - mae: 0.0395\n",
            "Epoch 11: val_mae improved from 0.03033 to 0.02939, saving model to model/my_checkpoint.ckpt\n",
            "35/35 [==============================] - 1s 18ms/step - loss: 0.0016 - mae: 0.0394 - val_loss: 8.0478e-04 - val_mae: 0.0294\n",
            "Epoch 12/100\n",
            "34/35 [============================>.] - ETA: 0s - loss: 0.0015 - mae: 0.0380\n",
            "Epoch 12: val_mae improved from 0.02939 to 0.02877, saving model to model/my_checkpoint.ckpt\n",
            "35/35 [==============================] - 1s 18ms/step - loss: 0.0015 - mae: 0.0379 - val_loss: 7.7684e-04 - val_mae: 0.0288\n",
            "Epoch 13/100\n",
            "33/35 [===========================>..] - ETA: 0s - loss: 0.0014 - mae: 0.0358\n",
            "Epoch 13: val_mae improved from 0.02877 to 0.02828, saving model to model/my_checkpoint.ckpt\n",
            "35/35 [==============================] - 1s 18ms/step - loss: 0.0015 - mae: 0.0368 - val_loss: 7.5559e-04 - val_mae: 0.0283\n",
            "Epoch 14/100\n",
            "32/35 [==========================>...] - ETA: 0s - loss: 0.0014 - mae: 0.0353\n",
            "Epoch 14: val_mae improved from 0.02828 to 0.02789, saving model to model/my_checkpoint.ckpt\n",
            "35/35 [==============================] - 1s 17ms/step - loss: 0.0014 - mae: 0.0360 - val_loss: 7.3816e-04 - val_mae: 0.0279\n",
            "Epoch 15/100\n",
            "34/35 [============================>.] - ETA: 0s - loss: 0.0014 - mae: 0.0353\n",
            "Epoch 15: val_mae improved from 0.02789 to 0.02761, saving model to model/my_checkpoint.ckpt\n",
            "35/35 [==============================] - 1s 18ms/step - loss: 0.0014 - mae: 0.0353 - val_loss: 7.2480e-04 - val_mae: 0.0276\n",
            "Epoch 16/100\n",
            "35/35 [==============================] - ETA: 0s - loss: 0.0014 - mae: 0.0348\n",
            "Epoch 16: val_mae improved from 0.02761 to 0.02739, saving model to model/my_checkpoint.ckpt\n",
            "35/35 [==============================] - 1s 29ms/step - loss: 0.0014 - mae: 0.0348 - val_loss: 7.1389e-04 - val_mae: 0.0274\n",
            "Epoch 17/100\n",
            "32/35 [==========================>...] - ETA: 0s - loss: 0.0014 - mae: 0.0336\n",
            "Epoch 17: val_mae improved from 0.02739 to 0.02721, saving model to model/my_checkpoint.ckpt\n",
            "35/35 [==============================] - 1s 26ms/step - loss: 0.0014 - mae: 0.0343 - val_loss: 7.0405e-04 - val_mae: 0.0272\n",
            "Epoch 18/100\n",
            "33/35 [===========================>..] - ETA: 0s - loss: 0.0013 - mae: 0.0327\n",
            "Epoch 18: val_mae improved from 0.02721 to 0.02707, saving model to model/my_checkpoint.ckpt\n",
            "35/35 [==============================] - 1s 18ms/step - loss: 0.0014 - mae: 0.0339 - val_loss: 6.9604e-04 - val_mae: 0.0271\n",
            "Epoch 19/100\n",
            "33/35 [===========================>..] - ETA: 0s - loss: 0.0013 - mae: 0.0323\n",
            "Epoch 19: val_mae improved from 0.02707 to 0.02696, saving model to model/my_checkpoint.ckpt\n",
            "35/35 [==============================] - 1s 18ms/step - loss: 0.0013 - mae: 0.0335 - val_loss: 6.8959e-04 - val_mae: 0.0270\n",
            "Epoch 20/100\n",
            "34/35 [============================>.] - ETA: 0s - loss: 0.0013 - mae: 0.0330\n",
            "Epoch 20: val_mae improved from 0.02696 to 0.02686, saving model to model/my_checkpoint.ckpt\n",
            "35/35 [==============================] - 1s 17ms/step - loss: 0.0013 - mae: 0.0332 - val_loss: 6.8363e-04 - val_mae: 0.0269\n",
            "Epoch 21/100\n",
            "32/35 [==========================>...] - ETA: 0s - loss: 0.0013 - mae: 0.0320\n",
            "Epoch 21: val_mae improved from 0.02686 to 0.02679, saving model to model/my_checkpoint.ckpt\n",
            "35/35 [==============================] - 1s 18ms/step - loss: 0.0013 - mae: 0.0329 - val_loss: 6.7911e-04 - val_mae: 0.0268\n",
            "Epoch 22/100\n",
            "32/35 [==========================>...] - ETA: 0s - loss: 0.0013 - mae: 0.0317\n",
            "Epoch 22: val_mae improved from 0.02679 to 0.02672, saving model to model/my_checkpoint.ckpt\n",
            "35/35 [==============================] - 1s 17ms/step - loss: 0.0013 - mae: 0.0326 - val_loss: 6.7457e-04 - val_mae: 0.0267\n",
            "Epoch 23/100\n",
            "33/35 [===========================>..] - ETA: 0s - loss: 0.0012 - mae: 0.0310\n",
            "Epoch 23: val_mae improved from 0.02672 to 0.02667, saving model to model/my_checkpoint.ckpt\n",
            "35/35 [==============================] - 1s 18ms/step - loss: 0.0013 - mae: 0.0324 - val_loss: 6.7125e-04 - val_mae: 0.0267\n",
            "Epoch 24/100\n",
            "34/35 [============================>.] - ETA: 0s - loss: 0.0013 - mae: 0.0319\n",
            "Epoch 24: val_mae improved from 0.02667 to 0.02662, saving model to model/my_checkpoint.ckpt\n",
            "35/35 [==============================] - 1s 17ms/step - loss: 0.0013 - mae: 0.0321 - val_loss: 6.6779e-04 - val_mae: 0.0266\n",
            "Epoch 25/100\n",
            "31/35 [=========================>....] - ETA: 0s - loss: 0.0013 - mae: 0.0315\n",
            "Epoch 25: val_mae improved from 0.02662 to 0.02660, saving model to model/my_checkpoint.ckpt\n",
            "35/35 [==============================] - 1s 19ms/step - loss: 0.0013 - mae: 0.0319 - val_loss: 6.6544e-04 - val_mae: 0.0266\n",
            "Epoch 26/100\n",
            "33/35 [===========================>..] - ETA: 0s - loss: 0.0012 - mae: 0.0303\n",
            "Epoch 26: val_mae improved from 0.02660 to 0.02656, saving model to model/my_checkpoint.ckpt\n",
            "35/35 [==============================] - 1s 18ms/step - loss: 0.0013 - mae: 0.0317 - val_loss: 6.6268e-04 - val_mae: 0.0266\n",
            "Epoch 27/100\n",
            "35/35 [==============================] - ETA: 0s - loss: 0.0013 - mae: 0.0316\n",
            "Epoch 27: val_mae improved from 0.02656 to 0.02655, saving model to model/my_checkpoint.ckpt\n",
            "35/35 [==============================] - 1s 18ms/step - loss: 0.0013 - mae: 0.0316 - val_loss: 6.6127e-04 - val_mae: 0.0266\n",
            "Epoch 28/100\n",
            "33/35 [===========================>..] - ETA: 0s - loss: 0.0012 - mae: 0.0299\n",
            "Epoch 28: val_mae improved from 0.02655 to 0.02650, saving model to model/my_checkpoint.ckpt\n",
            "35/35 [==============================] - 1s 18ms/step - loss: 0.0013 - mae: 0.0314 - val_loss: 6.5798e-04 - val_mae: 0.0265\n",
            "Epoch 29/100\n",
            "32/35 [==========================>...] - ETA: 0s - loss: 0.0012 - mae: 0.0302\n",
            "Epoch 29: val_mae did not improve from 0.02650\n",
            "35/35 [==============================] - 1s 17ms/step - loss: 0.0012 - mae: 0.0312 - val_loss: 6.5731e-04 - val_mae: 0.0265\n",
            "Epoch 30/100\n",
            "34/35 [============================>.] - ETA: 0s - loss: 0.0012 - mae: 0.0308\n",
            "Epoch 30: val_mae improved from 0.02650 to 0.02643, saving model to model/my_checkpoint.ckpt\n",
            "35/35 [==============================] - 1s 17ms/step - loss: 0.0012 - mae: 0.0310 - val_loss: 6.5378e-04 - val_mae: 0.0264\n",
            "Epoch 31/100\n",
            "32/35 [==========================>...] - ETA: 0s - loss: 0.0012 - mae: 0.0299\n",
            "Epoch 31: val_mae did not improve from 0.02643\n",
            "35/35 [==============================] - 1s 17ms/step - loss: 0.0012 - mae: 0.0309 - val_loss: 6.5531e-04 - val_mae: 0.0265\n",
            "Epoch 32/100\n",
            "33/35 [===========================>..] - ETA: 0s - loss: 0.0012 - mae: 0.0293\n",
            "Epoch 32: val_mae improved from 0.02643 to 0.02640, saving model to model/my_checkpoint.ckpt\n",
            "35/35 [==============================] - 1s 18ms/step - loss: 0.0012 - mae: 0.0308 - val_loss: 6.5106e-04 - val_mae: 0.0264\n",
            "Epoch 33/100\n",
            "35/35 [==============================] - ETA: 0s - loss: 0.0012 - mae: 0.0307\n",
            "Epoch 33: val_mae did not improve from 0.02640\n",
            "35/35 [==============================] - 1s 16ms/step - loss: 0.0012 - mae: 0.0307 - val_loss: 6.5393e-04 - val_mae: 0.0265\n",
            "Epoch 34/100\n",
            "33/35 [===========================>..] - ETA: 0s - loss: 0.0011 - mae: 0.0291\n",
            "Epoch 34: val_mae did not improve from 0.02640\n",
            "35/35 [==============================] - 1s 17ms/step - loss: 0.0012 - mae: 0.0306 - val_loss: 6.5048e-04 - val_mae: 0.0264\n",
            "Epoch 35/100\n",
            "33/35 [===========================>..] - ETA: 0s - loss: 0.0011 - mae: 0.0290\n",
            "Epoch 35: val_mae did not improve from 0.02640\n",
            "35/35 [==============================] - 1s 17ms/step - loss: 0.0012 - mae: 0.0305 - val_loss: 6.5297e-04 - val_mae: 0.0265\n",
            "Epoch 36/100\n",
            "33/35 [===========================>..] - ETA: 0s - loss: 0.0011 - mae: 0.0289\n",
            "Epoch 36: val_mae did not improve from 0.02640\n",
            "35/35 [==============================] - 1s 17ms/step - loss: 0.0012 - mae: 0.0304 - val_loss: 6.4952e-04 - val_mae: 0.0264\n",
            "Epoch 37/100\n",
            "34/35 [============================>.] - ETA: 0s - loss: 0.0012 - mae: 0.0300\n",
            "Epoch 37: val_mae did not improve from 0.02640\n",
            "35/35 [==============================] - 1s 17ms/step - loss: 0.0012 - mae: 0.0303 - val_loss: 6.5228e-04 - val_mae: 0.0265\n",
            "Epoch 38/100\n",
            "32/35 [==========================>...] - ETA: 0s - loss: 0.0012 - mae: 0.0291\n",
            "Epoch 38: val_mae did not improve from 0.02640\n",
            "35/35 [==============================] - 1s 17ms/step - loss: 0.0012 - mae: 0.0302 - val_loss: 6.4888e-04 - val_mae: 0.0265\n",
            "Epoch 39/100\n",
            "33/35 [===========================>..] - ETA: 0s - loss: 0.0011 - mae: 0.0286\n",
            "Epoch 39: val_mae did not improve from 0.02640\n",
            "35/35 [==============================] - 1s 17ms/step - loss: 0.0012 - mae: 0.0302 - val_loss: 6.5162e-04 - val_mae: 0.0266\n",
            "Epoch 40/100\n",
            "33/35 [===========================>..] - ETA: 0s - loss: 0.0011 - mae: 0.0285\n",
            "Epoch 40: val_mae did not improve from 0.02640\n",
            "35/35 [==============================] - 1s 17ms/step - loss: 0.0012 - mae: 0.0301 - val_loss: 6.4845e-04 - val_mae: 0.0265\n",
            "Epoch 41/100\n",
            "34/35 [============================>.] - ETA: 0s - loss: 0.0012 - mae: 0.0296\n",
            "Epoch 41: val_mae did not improve from 0.02640\n",
            "35/35 [==============================] - 1s 17ms/step - loss: 0.0012 - mae: 0.0300 - val_loss: 6.5080e-04 - val_mae: 0.0266\n",
            "Epoch 42/100\n",
            "33/35 [===========================>..] - ETA: 0s - loss: 0.0011 - mae: 0.0284\n",
            "Epoch 42: val_mae did not improve from 0.02640\n",
            "35/35 [==============================] - 1s 17ms/step - loss: 0.0012 - mae: 0.0300 - val_loss: 6.4823e-04 - val_mae: 0.0265\n",
            "Epoch 43/100\n",
            "35/35 [==============================] - ETA: 0s - loss: 0.0012 - mae: 0.0299\n",
            "Epoch 43: val_mae did not improve from 0.02640\n",
            "35/35 [==============================] - 1s 18ms/step - loss: 0.0012 - mae: 0.0299 - val_loss: 6.5066e-04 - val_mae: 0.0266\n",
            "Epoch 44/100\n",
            "33/35 [===========================>..] - ETA: 0s - loss: 0.0011 - mae: 0.0283\n",
            "Epoch 44: val_mae did not improve from 0.02640\n",
            "35/35 [==============================] - 1s 18ms/step - loss: 0.0012 - mae: 0.0299 - val_loss: 6.4753e-04 - val_mae: 0.0265\n",
            "Epoch 45/100\n",
            "32/35 [==========================>...] - ETA: 0s - loss: 0.0011 - mae: 0.0287\n",
            "Epoch 45: val_mae did not improve from 0.02640\n",
            "35/35 [==============================] - 1s 17ms/step - loss: 0.0012 - mae: 0.0298 - val_loss: 6.5048e-04 - val_mae: 0.0266\n",
            "Epoch 46/100\n",
            "35/35 [==============================] - ETA: 0s - loss: 0.0012 - mae: 0.0298\n",
            "Epoch 46: val_mae did not improve from 0.02640\n",
            "35/35 [==============================] - 1s 16ms/step - loss: 0.0012 - mae: 0.0298 - val_loss: 6.4688e-04 - val_mae: 0.0266\n",
            "Epoch 47/100\n",
            "31/35 [=========================>....] - ETA: 0s - loss: 0.0012 - mae: 0.0290\n",
            "Epoch 47: val_mae did not improve from 0.02640\n",
            "35/35 [==============================] - 1s 18ms/step - loss: 0.0012 - mae: 0.0297 - val_loss: 6.5049e-04 - val_mae: 0.0267\n",
            "Epoch 48/100\n",
            "35/35 [==============================] - ETA: 0s - loss: 0.0012 - mae: 0.0297\n",
            "Epoch 48: val_mae did not improve from 0.02640\n",
            "35/35 [==============================] - 1s 18ms/step - loss: 0.0012 - mae: 0.0297 - val_loss: 6.4594e-04 - val_mae: 0.0266\n",
            "Epoch 49/100\n",
            "32/35 [==========================>...] - ETA: 0s - loss: 0.0011 - mae: 0.0284\n",
            "Epoch 49: val_mae did not improve from 0.02640\n",
            "35/35 [==============================] - 1s 17ms/step - loss: 0.0012 - mae: 0.0296 - val_loss: 6.4956e-04 - val_mae: 0.0267\n",
            "Epoch 50/100\n",
            "34/35 [============================>.] - ETA: 0s - loss: 0.0012 - mae: 0.0291\n",
            "Epoch 50: val_mae did not improve from 0.02640\n",
            "35/35 [==============================] - 1s 17ms/step - loss: 0.0012 - mae: 0.0296 - val_loss: 6.4517e-04 - val_mae: 0.0266\n",
            "Epoch 51/100\n",
            "34/35 [============================>.] - ETA: 0s - loss: 0.0012 - mae: 0.0291\n",
            "Epoch 51: val_mae did not improve from 0.02640\n",
            "35/35 [==============================] - 1s 17ms/step - loss: 0.0012 - mae: 0.0295 - val_loss: 6.4960e-04 - val_mae: 0.0267\n",
            "Epoch 52/100\n",
            "33/35 [===========================>..] - ETA: 0s - loss: 0.0011 - mae: 0.0278\n",
            "Epoch 52: val_mae did not improve from 0.02640\n",
            "35/35 [==============================] - 1s 17ms/step - loss: 0.0012 - mae: 0.0295 - val_loss: 6.4467e-04 - val_mae: 0.0266\n",
            "Epoch 53/100\n",
            "35/35 [==============================] - ETA: 0s - loss: 0.0012 - mae: 0.0295\n",
            "Epoch 53: val_mae did not improve from 0.02640\n",
            "35/35 [==============================] - 1s 17ms/step - loss: 0.0012 - mae: 0.0295 - val_loss: 6.4804e-04 - val_mae: 0.0267\n",
            "Epoch 54/100\n",
            "33/35 [===========================>..] - ETA: 0s - loss: 0.0011 - mae: 0.0277\n",
            "Epoch 54: val_mae did not improve from 0.02640\n",
            "35/35 [==============================] - 1s 17ms/step - loss: 0.0012 - mae: 0.0294 - val_loss: 6.4358e-04 - val_mae: 0.0265\n",
            "Epoch 55/100\n",
            "35/35 [==============================] - ETA: 0s - loss: 0.0011 - mae: 0.0294\n",
            "Epoch 55: val_mae did not improve from 0.02640\n",
            "35/35 [==============================] - 1s 19ms/step - loss: 0.0011 - mae: 0.0294 - val_loss: 6.4751e-04 - val_mae: 0.0267\n",
            "Epoch 56/100\n",
            "32/35 [==========================>...] - ETA: 0s - loss: 0.0011 - mae: 0.0281\n",
            "Epoch 56: val_mae did not improve from 0.02640\n",
            "35/35 [==============================] - 1s 17ms/step - loss: 0.0011 - mae: 0.0293 - val_loss: 6.4348e-04 - val_mae: 0.0266\n",
            "Epoch 57/100\n",
            "33/35 [===========================>..] - ETA: 0s - loss: 0.0011 - mae: 0.0276\n",
            "Epoch 57: val_mae did not improve from 0.02640\n",
            "35/35 [==============================] - 1s 17ms/step - loss: 0.0011 - mae: 0.0293 - val_loss: 6.4650e-04 - val_mae: 0.0266\n",
            "Epoch 58/100\n",
            "31/35 [=========================>....] - ETA: 0s - loss: 0.0011 - mae: 0.0285\n",
            "Epoch 58: val_mae did not improve from 0.02640\n",
            "35/35 [==============================] - 1s 18ms/step - loss: 0.0011 - mae: 0.0292 - val_loss: 6.4395e-04 - val_mae: 0.0266\n",
            "Epoch 59/100\n",
            "32/35 [==========================>...] - ETA: 0s - loss: 0.0011 - mae: 0.0280\n",
            "Epoch 59: val_mae did not improve from 0.02640\n",
            "35/35 [==============================] - 1s 17ms/step - loss: 0.0011 - mae: 0.0292 - val_loss: 6.4684e-04 - val_mae: 0.0267\n",
            "Epoch 60/100\n",
            "35/35 [==============================] - ETA: 0s - loss: 0.0011 - mae: 0.0292\n",
            "Epoch 60: val_mae did not improve from 0.02640\n",
            "35/35 [==============================] - 1s 18ms/step - loss: 0.0011 - mae: 0.0292 - val_loss: 6.4333e-04 - val_mae: 0.0266\n",
            "Epoch 61/100\n",
            "33/35 [===========================>..] - ETA: 0s - loss: 0.0011 - mae: 0.0275\n",
            "Epoch 61: val_mae did not improve from 0.02640\n",
            "35/35 [==============================] - 1s 17ms/step - loss: 0.0011 - mae: 0.0292 - val_loss: 6.4569e-04 - val_mae: 0.0267\n",
            "Epoch 62/100\n",
            "33/35 [===========================>..] - ETA: 0s - loss: 0.0011 - mae: 0.0274\n",
            "Epoch 62: val_mae did not improve from 0.02640\n",
            "35/35 [==============================] - 1s 17ms/step - loss: 0.0011 - mae: 0.0291 - val_loss: 6.4298e-04 - val_mae: 0.0266\n",
            "Epoch 63/100\n",
            "33/35 [===========================>..] - ETA: 0s - loss: 0.0011 - mae: 0.0274\n",
            "Epoch 63: val_mae did not improve from 0.02640\n",
            "35/35 [==============================] - 1s 17ms/step - loss: 0.0011 - mae: 0.0291 - val_loss: 6.4613e-04 - val_mae: 0.0267\n",
            "Epoch 64/100\n",
            "33/35 [===========================>..] - ETA: 0s - loss: 0.0011 - mae: 0.0274\n",
            "Epoch 64: val_mae did not improve from 0.02640\n",
            "35/35 [==============================] - 1s 17ms/step - loss: 0.0011 - mae: 0.0290 - val_loss: 6.4234e-04 - val_mae: 0.0266\n",
            "Epoch 65/100\n",
            "31/35 [=========================>....] - ETA: 0s - loss: 0.0011 - mae: 0.0282\n",
            "Epoch 65: val_mae did not improve from 0.02640\n",
            "35/35 [==============================] - 1s 17ms/step - loss: 0.0011 - mae: 0.0290 - val_loss: 6.4488e-04 - val_mae: 0.0267\n",
            "Epoch 66/100\n",
            "34/35 [============================>.] - ETA: 0s - loss: 0.0011 - mae: 0.0285\n",
            "Epoch 66: val_mae did not improve from 0.02640\n",
            "35/35 [==============================] - 1s 17ms/step - loss: 0.0011 - mae: 0.0290 - val_loss: 6.4194e-04 - val_mae: 0.0266\n",
            "Epoch 67/100\n",
            "33/35 [===========================>..] - ETA: 0s - loss: 0.0010 - mae: 0.0273\n",
            "Epoch 67: val_mae did not improve from 0.02640\n",
            "35/35 [==============================] - 1s 17ms/step - loss: 0.0011 - mae: 0.0290 - val_loss: 6.4403e-04 - val_mae: 0.0267\n",
            "Epoch 68/100\n",
            "34/35 [============================>.] - ETA: 0s - loss: 0.0011 - mae: 0.0284\n",
            "Epoch 68: val_mae did not improve from 0.02640\n",
            "35/35 [==============================] - 1s 26ms/step - loss: 0.0011 - mae: 0.0289 - val_loss: 6.4099e-04 - val_mae: 0.0266\n",
            "Epoch 69/100\n",
            "31/35 [=========================>....] - ETA: 0s - loss: 0.0011 - mae: 0.0281\n",
            "Epoch 69: val_mae did not improve from 0.02640\n",
            "35/35 [==============================] - 1s 24ms/step - loss: 0.0011 - mae: 0.0289 - val_loss: 6.4381e-04 - val_mae: 0.0267\n",
            "Epoch 70/100\n",
            "33/35 [===========================>..] - ETA: 0s - loss: 0.0010 - mae: 0.0272\n",
            "Epoch 70: val_mae did not improve from 0.02640\n",
            "35/35 [==============================] - 1s 17ms/step - loss: 0.0011 - mae: 0.0289 - val_loss: 6.3961e-04 - val_mae: 0.0266\n",
            "Epoch 71/100\n",
            "34/35 [============================>.] - ETA: 0s - loss: 0.0011 - mae: 0.0283\n",
            "Epoch 71: val_mae did not improve from 0.02640\n",
            "35/35 [==============================] - 1s 16ms/step - loss: 0.0011 - mae: 0.0288 - val_loss: 6.4205e-04 - val_mae: 0.0266\n",
            "Epoch 72/100\n",
            "33/35 [===========================>..] - ETA: 0s - loss: 0.0010 - mae: 0.0271\n",
            "Epoch 72: val_mae did not improve from 0.02640\n",
            "35/35 [==============================] - 1s 17ms/step - loss: 0.0011 - mae: 0.0288 - val_loss: 6.3913e-04 - val_mae: 0.0266\n",
            "Epoch 73/100\n",
            "32/35 [==========================>...] - ETA: 0s - loss: 0.0011 - mae: 0.0275\n",
            "Epoch 73: val_mae did not improve from 0.02640\n",
            "35/35 [==============================] - 1s 17ms/step - loss: 0.0011 - mae: 0.0288 - val_loss: 6.4185e-04 - val_mae: 0.0266\n",
            "Epoch 74/100\n",
            "32/35 [==========================>...] - ETA: 0s - loss: 0.0011 - mae: 0.0275\n",
            "Epoch 74: val_mae did not improve from 0.02640\n",
            "35/35 [==============================] - 1s 17ms/step - loss: 0.0011 - mae: 0.0287 - val_loss: 6.3849e-04 - val_mae: 0.0266\n",
            "Epoch 75/100\n",
            "33/35 [===========================>..] - ETA: 0s - loss: 0.0010 - mae: 0.0270\n",
            "Epoch 75: val_mae did not improve from 0.02640\n",
            "35/35 [==============================] - 1s 19ms/step - loss: 0.0011 - mae: 0.0287 - val_loss: 6.4020e-04 - val_mae: 0.0266\n",
            "Epoch 76/100\n",
            "33/35 [===========================>..] - ETA: 0s - loss: 0.0010 - mae: 0.0270\n",
            "Epoch 76: val_mae did not improve from 0.02640\n",
            "35/35 [==============================] - 1s 17ms/step - loss: 0.0011 - mae: 0.0287 - val_loss: 6.3752e-04 - val_mae: 0.0266\n",
            "Epoch 77/100\n",
            "33/35 [===========================>..] - ETA: 0s - loss: 0.0010 - mae: 0.0270\n",
            "Epoch 77: val_mae did not improve from 0.02640\n",
            "35/35 [==============================] - 1s 17ms/step - loss: 0.0011 - mae: 0.0287 - val_loss: 6.3988e-04 - val_mae: 0.0266\n",
            "Epoch 78/100\n",
            "35/35 [==============================] - ETA: 0s - loss: 0.0011 - mae: 0.0286\n",
            "Epoch 78: val_mae did not improve from 0.02640\n",
            "35/35 [==============================] - 1s 17ms/step - loss: 0.0011 - mae: 0.0286 - val_loss: 6.3676e-04 - val_mae: 0.0265\n",
            "Epoch 79/100\n",
            "32/35 [==========================>...] - ETA: 0s - loss: 0.0010 - mae: 0.0273\n",
            "Epoch 79: val_mae did not improve from 0.02640\n",
            "35/35 [==============================] - 1s 17ms/step - loss: 0.0011 - mae: 0.0286 - val_loss: 6.3854e-04 - val_mae: 0.0266\n",
            "Epoch 80/100\n",
            "35/35 [==============================] - ETA: 0s - loss: 0.0011 - mae: 0.0285\n",
            "Epoch 80: val_mae did not improve from 0.02640\n",
            "35/35 [==============================] - 1s 18ms/step - loss: 0.0011 - mae: 0.0285 - val_loss: 6.3581e-04 - val_mae: 0.0265\n",
            "Epoch 81/100\n",
            "33/35 [===========================>..] - ETA: 0s - loss: 0.0010 - mae: 0.0268\n",
            "Epoch 81: val_mae did not improve from 0.02640\n",
            "35/35 [==============================] - 1s 17ms/step - loss: 0.0011 - mae: 0.0285 - val_loss: 6.3815e-04 - val_mae: 0.0266\n",
            "Epoch 82/100\n",
            "31/35 [=========================>....] - ETA: 0s - loss: 0.0011 - mae: 0.0276\n",
            "Epoch 82: val_mae did not improve from 0.02640\n",
            "35/35 [==============================] - 1s 17ms/step - loss: 0.0011 - mae: 0.0285 - val_loss: 6.3500e-04 - val_mae: 0.0265\n",
            "Epoch 83/100\n",
            "32/35 [==========================>...] - ETA: 0s - loss: 0.0010 - mae: 0.0272\n",
            "Epoch 83: val_mae did not improve from 0.02640\n",
            "35/35 [==============================] - 1s 17ms/step - loss: 0.0011 - mae: 0.0285 - val_loss: 6.3638e-04 - val_mae: 0.0266\n",
            "Epoch 84/100\n",
            "33/35 [===========================>..] - ETA: 0s - loss: 0.0010 - mae: 0.0267\n",
            "Epoch 84: val_mae did not improve from 0.02640\n",
            "35/35 [==============================] - 1s 17ms/step - loss: 0.0011 - mae: 0.0284 - val_loss: 6.3382e-04 - val_mae: 0.0265\n",
            "Epoch 85/100\n",
            "31/35 [=========================>....] - ETA: 0s - loss: 0.0011 - mae: 0.0275\n",
            "Epoch 85: val_mae did not improve from 0.02640\n",
            "35/35 [==============================] - 1s 17ms/step - loss: 0.0011 - mae: 0.0284 - val_loss: 6.3605e-04 - val_mae: 0.0266\n",
            "Epoch 86/100\n",
            "32/35 [==========================>...] - ETA: 0s - loss: 0.0010 - mae: 0.0271\n",
            "Epoch 86: val_mae did not improve from 0.02640\n",
            "35/35 [==============================] - 1s 18ms/step - loss: 0.0011 - mae: 0.0284 - val_loss: 6.3262e-04 - val_mae: 0.0265\n",
            "Epoch 87/100\n",
            "33/35 [===========================>..] - ETA: 0s - loss: 9.9281e-04 - mae: 0.0266\n",
            "Epoch 87: val_mae did not improve from 0.02640\n",
            "35/35 [==============================] - 1s 17ms/step - loss: 0.0011 - mae: 0.0284 - val_loss: 6.3454e-04 - val_mae: 0.0265\n",
            "Epoch 88/100\n",
            "32/35 [==========================>...] - ETA: 0s - loss: 0.0010 - mae: 0.0270\n",
            "Epoch 88: val_mae did not improve from 0.02640\n",
            "35/35 [==============================] - 1s 17ms/step - loss: 0.0011 - mae: 0.0283 - val_loss: 6.3139e-04 - val_mae: 0.0265\n",
            "Epoch 89/100\n",
            "34/35 [============================>.] - ETA: 0s - loss: 0.0011 - mae: 0.0277\n",
            "Epoch 89: val_mae did not improve from 0.02640\n",
            "35/35 [==============================] - 1s 18ms/step - loss: 0.0011 - mae: 0.0283 - val_loss: 6.3361e-04 - val_mae: 0.0265\n",
            "Epoch 90/100\n",
            "31/35 [=========================>....] - ETA: 0s - loss: 0.0010 - mae: 0.0274\n",
            "Epoch 90: val_mae did not improve from 0.02640\n",
            "35/35 [==============================] - 1s 18ms/step - loss: 0.0011 - mae: 0.0282 - val_loss: 6.3049e-04 - val_mae: 0.0265\n",
            "Epoch 91/100\n",
            "34/35 [============================>.] - ETA: 0s - loss: 0.0010 - mae: 0.0277\n",
            "Epoch 91: val_mae did not improve from 0.02640\n",
            "35/35 [==============================] - 1s 18ms/step - loss: 0.0011 - mae: 0.0282 - val_loss: 6.3222e-04 - val_mae: 0.0265\n",
            "Epoch 92/100\n",
            "33/35 [===========================>..] - ETA: 0s - loss: 9.7990e-04 - mae: 0.0265\n",
            "Epoch 92: val_mae did not improve from 0.02640\n",
            "35/35 [==============================] - 1s 17ms/step - loss: 0.0011 - mae: 0.0282 - val_loss: 6.2932e-04 - val_mae: 0.0264\n",
            "Epoch 93/100\n",
            "33/35 [===========================>..] - ETA: 0s - loss: 9.7725e-04 - mae: 0.0264\n",
            "Epoch 93: val_mae did not improve from 0.02640\n",
            "35/35 [==============================] - 1s 17ms/step - loss: 0.0011 - mae: 0.0282 - val_loss: 6.3155e-04 - val_mae: 0.0265\n",
            "Epoch 94/100\n",
            "33/35 [===========================>..] - ETA: 0s - loss: 9.7468e-04 - mae: 0.0264\n",
            "Epoch 94: val_mae did not improve from 0.02640\n",
            "35/35 [==============================] - 1s 17ms/step - loss: 0.0011 - mae: 0.0281 - val_loss: 6.2809e-04 - val_mae: 0.0264\n",
            "Epoch 95/100\n",
            "33/35 [===========================>..] - ETA: 0s - loss: 9.7195e-04 - mae: 0.0264\n",
            "Epoch 95: val_mae did not improve from 0.02640\n",
            "35/35 [==============================] - 1s 17ms/step - loss: 0.0010 - mae: 0.0281 - val_loss: 6.2991e-04 - val_mae: 0.0265\n",
            "Epoch 96/100\n",
            "33/35 [===========================>..] - ETA: 0s - loss: 9.6944e-04 - mae: 0.0263\n",
            "Epoch 96: val_mae did not improve from 0.02640\n",
            "35/35 [==============================] - 1s 17ms/step - loss: 0.0010 - mae: 0.0280 - val_loss: 6.2676e-04 - val_mae: 0.0264\n",
            "Epoch 97/100\n",
            "32/35 [==========================>...] - ETA: 0s - loss: 9.9326e-04 - mae: 0.0267\n",
            "Epoch 97: val_mae did not improve from 0.02640\n",
            "35/35 [==============================] - 1s 18ms/step - loss: 0.0010 - mae: 0.0280 - val_loss: 6.2895e-04 - val_mae: 0.0265\n",
            "Epoch 98/100\n",
            "35/35 [==============================] - ETA: 0s - loss: 0.0010 - mae: 0.0280\n",
            "Epoch 98: val_mae improved from 0.02640 to 0.02638, saving model to model/my_checkpoint.ckpt\n",
            "35/35 [==============================] - 1s 22ms/step - loss: 0.0010 - mae: 0.0280 - val_loss: 6.2545e-04 - val_mae: 0.0264\n",
            "Epoch 99/100\n",
            "33/35 [===========================>..] - ETA: 0s - loss: 9.6136e-04 - mae: 0.0262\n",
            "Epoch 99: val_mae did not improve from 0.02638\n",
            "35/35 [==============================] - 1s 17ms/step - loss: 0.0010 - mae: 0.0280 - val_loss: 6.2762e-04 - val_mae: 0.0264\n",
            "Epoch 100/100\n",
            "31/35 [=========================>....] - ETA: 0s - loss: 0.0010 - mae: 0.0270    \n",
            "Epoch 100: val_mae improved from 0.02638 to 0.02636, saving model to model/my_checkpoint.ckpt\n",
            "35/35 [==============================] - 1s 18ms/step - loss: 0.0010 - mae: 0.0279 - val_loss: 6.2414e-04 - val_mae: 0.0264\n"
          ]
        },
        {
          "output_type": "execute_result",
          "data": {
            "text/plain": [
              "<keras.callbacks.History at 0x7fe1b328a290>"
            ]
          },
          "metadata": {},
          "execution_count": 13
        }
      ]
    },
    {
      "cell_type": "markdown",
      "metadata": {
        "id": "f8f6196d"
      },
      "source": [
        "### 가중치 로드"
      ],
      "id": "f8f6196d"
    },
    {
      "cell_type": "code",
      "metadata": {
        "id": "a4e2057a"
      },
      "source": [
        "model.load_weights(checkpoint_path)"
      ],
      "id": "a4e2057a",
      "execution_count": null,
      "outputs": []
    }
  ]
}
